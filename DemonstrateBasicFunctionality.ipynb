{
 "cells": [
  {
   "cell_type": "markdown",
   "id": "hydraulic-perth",
   "metadata": {},
   "source": [
    "# Python API"
   ]
  },
  {
   "cell_type": "code",
   "execution_count": 1,
   "id": "promising-brown",
   "metadata": {},
   "outputs": [],
   "source": [
    "from dynamic_configuration import DynamicConfiguration"
   ]
  },
  {
   "cell_type": "markdown",
   "id": "several-recipient",
   "metadata": {},
   "source": [
    "Instantiate a new configuration object using schema and values we've already defined."
   ]
  },
  {
   "cell_type": "code",
   "execution_count": 2,
   "id": "complicated-worcester",
   "metadata": {},
   "outputs": [],
   "source": [
    "dc = DynamicConfiguration(schema_file=\"sample/schema_nested.json\", values_file=\"sample/values_nested.json\")"
   ]
  },
  {
   "cell_type": "markdown",
   "id": "disciplinary-brake",
   "metadata": {},
   "source": [
    "By default, the configuration flattens all schema and uses dot notation to represent nested structures. This allows us to use the arg parser seamlessly and still have nested parameters."
   ]
  },
  {
   "cell_type": "code",
   "execution_count": 5,
   "id": "limited-engineering",
   "metadata": {},
   "outputs": [
    {
     "data": {
      "text/plain": [
       "{'boolean_parameter_1': True,\n",
       " 'categorical_parameter_1': 'option1',\n",
       " 'float_parameter_1': 1.0,\n",
       " 'list_parameter_1': [0, 1, 2],\n",
       " 'loss.str_parameter_1': None,\n",
       " 'loss.int_parameter_1': 1}"
      ]
     },
     "execution_count": 5,
     "metadata": {},
     "output_type": "execute_result"
    }
   ],
   "source": [
    "dc.get_values()"
   ]
  },
  {
   "cell_type": "markdown",
   "id": "characteristic-farmer",
   "metadata": {},
   "source": [
    "However, we can still expand the nested parameters if we want."
   ]
  },
  {
   "cell_type": "code",
   "execution_count": 6,
   "id": "congressional-simon",
   "metadata": {},
   "outputs": [
    {
     "data": {
      "text/plain": [
       "{'boolean_parameter_1': True,\n",
       " 'categorical_parameter_1': 'option1',\n",
       " 'float_parameter_1': 1.0,\n",
       " 'list_parameter_1': [0, 1, 2],\n",
       " 'loss': [None, 1]}"
      ]
     },
     "execution_count": 6,
     "metadata": {},
     "output_type": "execute_result"
    }
   ],
   "source": [
    "dc.get_values(expand=True)"
   ]
  },
  {
   "cell_type": "markdown",
   "id": "obvious-occurrence",
   "metadata": {},
   "source": [
    "# ArgParse/CLI"
   ]
  },
  {
   "cell_type": "markdown",
   "id": "coral-henry",
   "metadata": {},
   "source": [
    "Even though we have nested parameters, we can still set them dynamically using dot notation. Here's what the help script looks like."
   ]
  },
  {
   "cell_type": "code",
   "execution_count": 7,
   "id": "royal-camera",
   "metadata": {},
   "outputs": [
    {
     "name": "stdout",
     "output_type": "stream",
     "text": [
      "PARSED ARGUMENTS:\n",
      "usage: example1 [-h] [--config_schema CONFIG_SCHEMA]\n",
      "                [--config_values CONFIG_VALUES] [--randomize_config]\n",
      "                --boolean_parameter_1 BOOLEAN_PARAMETER_1\n",
      "                --categorical_parameter_1 CATEGORICAL_PARAMETER_1\n",
      "                --float_parameter_1 FLOAT_PARAMETER_1 --list_parameter_1\n",
      "                LIST_PARAMETER_1 [LIST_PARAMETER_1 ...] --loss.str_parameter_1\n",
      "                LOSS.STR_PARAMETER_1 --loss.int_parameter_1\n",
      "                LOSS.INT_PARAMETER_1 [--param1 PARAM1]\n",
      "\n",
      "Do stuff for example 1\n",
      "\n",
      "optional arguments:\n",
      "  -h, --help            show this help message and exit\n",
      "  --config_schema CONFIG_SCHEMA\n",
      "                        Dynamic configuration schema file specifying variable\n",
      "                        named arguments (default: None)\n",
      "  --config_values CONFIG_VALUES\n",
      "                        File specifying values following the schema in\n",
      "                        'config_schema'. These will override command line args\n",
      "                        if specified. (default: None)\n",
      "  --randomize_config    If True, generate random parameters from the specified\n",
      "                        dynamic configuration. (default: False)\n",
      "  --boolean_parameter_1 BOOLEAN_PARAMETER_1\n",
      "                        Boolean parameter help string. (default: True)\n",
      "  --categorical_parameter_1 CATEGORICAL_PARAMETER_1\n",
      "                        Categorical parameter help string. (default: option1)\n",
      "  --float_parameter_1 FLOAT_PARAMETER_1\n",
      "                        Float parameter help string. (default: 1.0)\n",
      "  --list_parameter_1 LIST_PARAMETER_1 [LIST_PARAMETER_1 ...]\n",
      "                        List parameter help string (casts as int in this\n",
      "                        example). (default: [0, 1, 2])\n",
      "  --loss.str_parameter_1 LOSS.STR_PARAMETER_1\n",
      "                        String parameter help string. (default: None)\n",
      "  --loss.int_parameter_1 LOSS.INT_PARAMETER_1\n",
      "                        Int parameter help string. (default: 1)\n",
      "  --param1 PARAM1       My help, super cool, wow, neat-o (default: 10)\n",
      "\n",
      "NOTE: This script uses a dynamic argument parser for configuration.\n",
      "See ..... for more information.\n"
     ]
    }
   ],
   "source": [
    "!python example.py --config_schema sample/schema_nested.json --config_values sample/values_nested.json --help"
   ]
  },
  {
   "cell_type": "markdown",
   "id": "current-ghana",
   "metadata": {},
   "source": [
    "Using a separate script, a pickled version of the parsed arguments was created. Let's inspect it."
   ]
  },
  {
   "cell_type": "code",
   "execution_count": 8,
   "id": "unique-token",
   "metadata": {},
   "outputs": [],
   "source": [
    "import pickle\n",
    "with open(\"parsed_args.p\", \"rb\") as fd:\n",
    "    args = pickle.load(fd)"
   ]
  },
  {
   "cell_type": "code",
   "execution_count": 9,
   "id": "demonstrated-cookbook",
   "metadata": {},
   "outputs": [
    {
     "data": {
      "text/plain": [
       "Namespace(boolean_parameter_1=True, categorical_parameter_1='option1', config_schema='sample/schema_nested.json', config_values='sample/values_nested.json', float_parameter_1=1.0, list_parameter_1=[0, 1, 2], loss=namespace(int_parameter_1=1, str_parameter_1=None), param1=10, randomize_config=False)"
      ]
     },
     "execution_count": 9,
     "metadata": {},
     "output_type": "execute_result"
    }
   ],
   "source": [
    "args"
   ]
  },
  {
   "cell_type": "markdown",
   "id": "danish-signature",
   "metadata": {},
   "source": [
    "A nested namespace was created, so we can access the parameters as any other python object."
   ]
  },
  {
   "cell_type": "code",
   "execution_count": 10,
   "id": "helpful-digit",
   "metadata": {},
   "outputs": [
    {
     "data": {
      "text/plain": [
       "True"
      ]
     },
     "execution_count": 10,
     "metadata": {},
     "output_type": "execute_result"
    }
   ],
   "source": [
    "args.boolean_parameter_1"
   ]
  },
  {
   "cell_type": "code",
   "execution_count": 11,
   "id": "permanent-finding",
   "metadata": {},
   "outputs": [
    {
     "data": {
      "text/plain": [
       "'option1'"
      ]
     },
     "execution_count": 11,
     "metadata": {},
     "output_type": "execute_result"
    }
   ],
   "source": [
    "args.categorical_parameter_1"
   ]
  },
  {
   "cell_type": "code",
   "execution_count": 12,
   "id": "corrected-slovak",
   "metadata": {},
   "outputs": [
    {
     "data": {
      "text/plain": [
       "namespace(int_parameter_1=1, str_parameter_1=None)"
      ]
     },
     "execution_count": 12,
     "metadata": {},
     "output_type": "execute_result"
    }
   ],
   "source": [
    "args.loss"
   ]
  },
  {
   "cell_type": "code",
   "execution_count": 13,
   "id": "competent-manner",
   "metadata": {},
   "outputs": [
    {
     "data": {
      "text/plain": [
       "1"
      ]
     },
     "execution_count": 13,
     "metadata": {},
     "output_type": "execute_result"
    }
   ],
   "source": [
    "args.loss.int_parameter_1"
   ]
  },
  {
   "cell_type": "code",
   "execution_count": 14,
   "id": "atomic-bennett",
   "metadata": {},
   "outputs": [],
   "source": [
    "args.loss.str_parameter_1"
   ]
  }
 ],
 "metadata": {
  "kernelspec": {
   "display_name": "Python 3",
   "language": "python",
   "name": "python3"
  },
  "language_info": {
   "codemirror_mode": {
    "name": "ipython",
    "version": 3
   },
   "file_extension": ".py",
   "mimetype": "text/x-python",
   "name": "python",
   "nbconvert_exporter": "python",
   "pygments_lexer": "ipython3",
   "version": "3.8.8"
  }
 },
 "nbformat": 4,
 "nbformat_minor": 5
}
