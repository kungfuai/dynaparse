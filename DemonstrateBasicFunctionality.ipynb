{
 "cells": [
  {
   "cell_type": "markdown",
   "id": "jewish-defeat",
   "metadata": {},
   "source": [
    "# Python API"
   ]
  },
  {
   "cell_type": "code",
   "execution_count": 1,
   "id": "intellectual-trainer",
   "metadata": {},
   "outputs": [],
   "source": [
    "from dynaparse import DynamicConfiguration"
   ]
  },
  {
   "cell_type": "markdown",
   "id": "retired-classics",
   "metadata": {},
   "source": [
    "Instantiate a new configuration object using schema and values we've already defined."
   ]
  },
  {
   "cell_type": "code",
   "execution_count": 2,
   "id": "radio-london",
   "metadata": {},
   "outputs": [],
   "source": [
    "dc = DynamicConfiguration(schema_file=\"sample/schema_nested.json\", values_file=\"sample/values_nested.json\")"
   ]
  },
  {
   "cell_type": "markdown",
   "id": "ahead-gauge",
   "metadata": {},
   "source": [
    "By default, the configuration flattens all schema and uses dot notation to represent nested structures. This allows us to use the arg parser seamlessly and still have nested parameters."
   ]
  },
  {
   "cell_type": "code",
   "execution_count": 3,
   "id": "english-headquarters",
   "metadata": {},
   "outputs": [
    {
     "data": {
      "text/plain": [
       "{'boolean_parameter_1': True,\n",
       " 'categorical_parameter_1': 'option1',\n",
       " 'float_parameter_1': 1.0,\n",
       " 'list_parameter_1': [0, 1, 2],\n",
       " 'loss.str_parameter_1': None,\n",
       " 'loss.int_parameter_1': 1}"
      ]
     },
     "execution_count": 3,
     "metadata": {},
     "output_type": "execute_result"
    }
   ],
   "source": [
    "dc.get_values()"
   ]
  },
  {
   "cell_type": "markdown",
   "id": "internal-pastor",
   "metadata": {},
   "source": [
    "However, we can still expand the nested parameters if we want."
   ]
  },
  {
   "cell_type": "code",
   "execution_count": 4,
   "id": "operating-garage",
   "metadata": {},
   "outputs": [
    {
     "data": {
      "text/plain": [
       "{'boolean_parameter_1': True,\n",
       " 'categorical_parameter_1': 'option1',\n",
       " 'float_parameter_1': 1.0,\n",
       " 'list_parameter_1': [0, 1, 2],\n",
       " 'loss': {'str_parameter_1': None, 'int_parameter_1': 1}}"
      ]
     },
     "execution_count": 4,
     "metadata": {},
     "output_type": "execute_result"
    }
   ],
   "source": [
    "dc.get_values(expand=True)"
   ]
  },
  {
   "cell_type": "markdown",
   "id": "hairy-database",
   "metadata": {},
   "source": [
    "If you don't specify a schema, it is inferred (and can be subsequently saved to edit later)"
   ]
  },
  {
   "cell_type": "code",
   "execution_count": 5,
   "id": "minute-trauma",
   "metadata": {},
   "outputs": [
    {
     "name": "stderr",
     "output_type": "stream",
     "text": [
      "/Users/mwharton/Code/dynaparse/dynaparse/dynamic_configuration.py:72: UserWarning: No schema file specified, inferring schema from 'sample/nested_config_values.json'\n",
      "  warnings.warn(\n"
     ]
    }
   ],
   "source": [
    "dc = DynamicConfiguration(values_file=\"sample/nested_config_values.json\")"
   ]
  },
  {
   "cell_type": "code",
   "execution_count": 6,
   "id": "separate-beauty",
   "metadata": {},
   "outputs": [
    {
     "data": {
      "text/plain": [
       "{'model.type': 'boosted_tree',\n",
       " 'model.parameters.max_depth': 5,\n",
       " 'model.parameters.max_leaves': 31,\n",
       " 'model.parameters.bagging_fraction': 0.5,\n",
       " 'model.parameters.eta': 0.03,\n",
       " 'model.parameters.lr': 0.01,\n",
       " 'train.data.paths': ['data/00*.csv', 'data/01*.csv'],\n",
       " 'train.data.augmentation.method': 'fillna',\n",
       " 'train.data.augmentation.column': 'x',\n",
       " 'train.data.augmentation.kwargs.value': -1,\n",
       " 'eval.data.paths': ['data/05*.csv']}"
      ]
     },
     "execution_count": 6,
     "metadata": {},
     "output_type": "execute_result"
    }
   ],
   "source": [
    "dc.get_values()"
   ]
  },
  {
   "cell_type": "markdown",
   "id": "stuck-incident",
   "metadata": {},
   "source": [
    "# ArgParse/CLI"
   ]
  },
  {
   "cell_type": "markdown",
   "id": "urban-texture",
   "metadata": {},
   "source": [
    "Even though we have nested parameters, we can still set them dynamically using dot notation. Here's what the help script looks like."
   ]
  },
  {
   "cell_type": "code",
   "execution_count": 7,
   "id": "sapphire-hindu",
   "metadata": {},
   "outputs": [
    {
     "name": "stdout",
     "output_type": "stream",
     "text": [
      "PARSED ARGUMENTS:\r\n",
      "usage: example1 [-h] [--config_schema CONFIG_SCHEMA]\r\n",
      "                [--config_values CONFIG_VALUES] [--randomize_config]\r\n",
      "                --boolean_parameter_1 BOOLEAN_PARAMETER_1\r\n",
      "                --categorical_parameter_1 CATEGORICAL_PARAMETER_1\r\n",
      "                --float_parameter_1 FLOAT_PARAMETER_1 --list_parameter_1\r\n",
      "                LIST_PARAMETER_1 [LIST_PARAMETER_1 ...] --loss.str_parameter_1\r\n",
      "                LOSS.STR_PARAMETER_1 --loss.int_parameter_1\r\n",
      "                LOSS.INT_PARAMETER_1 [--param1 PARAM1]\r\n",
      "\r\n",
      "Do stuff for example 1\r\n",
      "\r\n",
      "optional arguments:\r\n",
      "  -h, --help            show this help message and exit\r\n",
      "  --config_schema CONFIG_SCHEMA\r\n",
      "                        Dynamic configuration schema file specifying variable\r\n",
      "                        named arguments (default: None)\r\n",
      "  --config_values CONFIG_VALUES\r\n",
      "                        File specifying values following the schema in\r\n",
      "                        'config_schema'. These will override command line args\r\n",
      "                        if specified. (default: None)\r\n",
      "  --randomize_config    If True, generate random parameters from the specified\r\n",
      "                        dynamic configuration. (default: False)\r\n",
      "  --boolean_parameter_1 BOOLEAN_PARAMETER_1\r\n",
      "                        Boolean parameter help string. (default: True)\r\n",
      "  --categorical_parameter_1 CATEGORICAL_PARAMETER_1\r\n",
      "                        Categorical parameter help string. (default: option1)\r\n",
      "  --float_parameter_1 FLOAT_PARAMETER_1\r\n",
      "                        Float parameter help string. (default: 1.0)\r\n",
      "  --list_parameter_1 LIST_PARAMETER_1 [LIST_PARAMETER_1 ...]\r\n",
      "                        List parameter help string (casts as int in this\r\n",
      "                        example). (default: [0, 1, 2])\r\n",
      "  --loss.str_parameter_1 LOSS.STR_PARAMETER_1\r\n",
      "                        String parameter help string. (default: None)\r\n",
      "  --loss.int_parameter_1 LOSS.INT_PARAMETER_1\r\n",
      "                        Int parameter help string. (default: 1)\r\n",
      "  --param1 PARAM1       My help, super cool, wow, neat-o (default: 10)\r\n",
      "\r\n",
      "NOTE: This script uses a dynamic argument parser for configuration.\r\n",
      "See https://github.com/kungfuai/dynaparse for more information.\r\n"
     ]
    }
   ],
   "source": [
    "!python example.py --config_schema sample/schema_nested.json --config_values sample/values_nested.json --help"
   ]
  },
  {
   "cell_type": "markdown",
   "id": "august-permission",
   "metadata": {},
   "source": [
    "Using a separate script, a pickled version of the parsed arguments was created. Let's inspect it."
   ]
  },
  {
   "cell_type": "code",
   "execution_count": 8,
   "id": "wrapped-extent",
   "metadata": {},
   "outputs": [],
   "source": [
    "import pickle\n",
    "with open(\"parsed_args.p\", \"rb\") as fd:\n",
    "    args = pickle.load(fd)"
   ]
  },
  {
   "cell_type": "code",
   "execution_count": 9,
   "id": "developing-dairy",
   "metadata": {},
   "outputs": [
    {
     "data": {
      "text/plain": [
       "Namespace(boolean_parameter_1=True, categorical_parameter_1='option1', config_schema='sample/schema_nested.json', config_values='sample/values_nested.json', float_parameter_1=1.0, list_parameter_1=[0, 1, 2], loss=namespace(int_parameter_1=1, str_parameter_1=None), param1=10, randomize_config=False)"
      ]
     },
     "execution_count": 9,
     "metadata": {},
     "output_type": "execute_result"
    }
   ],
   "source": [
    "args"
   ]
  },
  {
   "cell_type": "markdown",
   "id": "equivalent-carter",
   "metadata": {},
   "source": [
    "A nested namespace was created, so we can access the parameters as any other python object."
   ]
  },
  {
   "cell_type": "code",
   "execution_count": 10,
   "id": "naked-finance",
   "metadata": {},
   "outputs": [
    {
     "data": {
      "text/plain": [
       "True"
      ]
     },
     "execution_count": 10,
     "metadata": {},
     "output_type": "execute_result"
    }
   ],
   "source": [
    "args.boolean_parameter_1"
   ]
  },
  {
   "cell_type": "code",
   "execution_count": 11,
   "id": "residential-press",
   "metadata": {},
   "outputs": [
    {
     "data": {
      "text/plain": [
       "'option1'"
      ]
     },
     "execution_count": 11,
     "metadata": {},
     "output_type": "execute_result"
    }
   ],
   "source": [
    "args.categorical_parameter_1"
   ]
  },
  {
   "cell_type": "code",
   "execution_count": 12,
   "id": "judicial-singapore",
   "metadata": {},
   "outputs": [
    {
     "data": {
      "text/plain": [
       "namespace(int_parameter_1=1, str_parameter_1=None)"
      ]
     },
     "execution_count": 12,
     "metadata": {},
     "output_type": "execute_result"
    }
   ],
   "source": [
    "args.loss"
   ]
  },
  {
   "cell_type": "code",
   "execution_count": 13,
   "id": "under-ambassador",
   "metadata": {},
   "outputs": [
    {
     "data": {
      "text/plain": [
       "1"
      ]
     },
     "execution_count": 13,
     "metadata": {},
     "output_type": "execute_result"
    }
   ],
   "source": [
    "args.loss.int_parameter_1"
   ]
  },
  {
   "cell_type": "code",
   "execution_count": 14,
   "id": "stupid-liability",
   "metadata": {},
   "outputs": [],
   "source": [
    "args.loss.str_parameter_1"
   ]
  },
  {
   "cell_type": "markdown",
   "id": "fantastic-gabriel",
   "metadata": {},
   "source": [
    "Finally, let's see what the help looks like if we don't specify a schema file"
   ]
  },
  {
   "cell_type": "code",
   "execution_count": 15,
   "id": "beginning-portfolio",
   "metadata": {},
   "outputs": [
    {
     "name": "stdout",
     "output_type": "stream",
     "text": [
      "/Users/mwharton/Code/dynaparse/dynaparse/dynamic_configuration.py:72: UserWarning: No schema file specified, inferring schema from 'sample/nested_config_values.json'\r\n",
      "  warnings.warn(\r\n",
      "PARSED ARGUMENTS:\r\n",
      "usage: example1 [-h] [--config_schema CONFIG_SCHEMA]\r\n",
      "                [--config_values CONFIG_VALUES] [--randomize_config]\r\n",
      "                --model.type MODEL.TYPE --model.parameters.max_depth\r\n",
      "                MODEL.PARAMETERS.MAX_DEPTH --model.parameters.max_leaves\r\n",
      "                MODEL.PARAMETERS.MAX_LEAVES\r\n",
      "                --model.parameters.bagging_fraction\r\n",
      "                MODEL.PARAMETERS.BAGGING_FRACTION --model.parameters.eta\r\n",
      "                MODEL.PARAMETERS.ETA --model.parameters.lr MODEL.PARAMETERS.LR\r\n",
      "                --train.data.paths TRAIN.DATA.PATHS [TRAIN.DATA.PATHS ...]\r\n",
      "                --train.data.augmentation.method\r\n",
      "                TRAIN.DATA.AUGMENTATION.METHOD\r\n",
      "                --train.data.augmentation.column\r\n",
      "                TRAIN.DATA.AUGMENTATION.COLUMN\r\n",
      "                --train.data.augmentation.kwargs.value\r\n",
      "                TRAIN.DATA.AUGMENTATION.KWARGS.VALUE --eval.data.paths\r\n",
      "                EVAL.DATA.PATHS [EVAL.DATA.PATHS ...] [--param1 PARAM1]\r\n",
      "\r\n",
      "Do stuff for example 1\r\n",
      "\r\n",
      "optional arguments:\r\n",
      "  -h, --help            show this help message and exit\r\n",
      "  --config_schema CONFIG_SCHEMA\r\n",
      "                        Dynamic configuration schema file specifying variable\r\n",
      "                        named arguments (default: None)\r\n",
      "  --config_values CONFIG_VALUES\r\n",
      "                        File specifying values following the schema in\r\n",
      "                        'config_schema'. These will override command line args\r\n",
      "                        if specified. (default: None)\r\n",
      "  --randomize_config    If True, generate random parameters from the specified\r\n",
      "                        dynamic configuration. (default: False)\r\n",
      "  --model.type MODEL.TYPE\r\n",
      "                        (NO HELP CONFIGURED) (default: boosted_tree)\r\n",
      "  --model.parameters.max_depth MODEL.PARAMETERS.MAX_DEPTH\r\n",
      "                        (NO HELP CONFIGURED) (default: 5)\r\n",
      "  --model.parameters.max_leaves MODEL.PARAMETERS.MAX_LEAVES\r\n",
      "                        (NO HELP CONFIGURED) (default: 31)\r\n",
      "  --model.parameters.bagging_fraction MODEL.PARAMETERS.BAGGING_FRACTION\r\n",
      "                        (NO HELP CONFIGURED) (default: 0.5)\r\n",
      "  --model.parameters.eta MODEL.PARAMETERS.ETA\r\n",
      "                        (NO HELP CONFIGURED) (default: 0.03)\r\n",
      "  --model.parameters.lr MODEL.PARAMETERS.LR\r\n",
      "                        (NO HELP CONFIGURED) (default: 0.01)\r\n",
      "  --train.data.paths TRAIN.DATA.PATHS [TRAIN.DATA.PATHS ...]\r\n",
      "                        (NO HELP CONFIGURED) (default: [])\r\n",
      "  --train.data.augmentation.method TRAIN.DATA.AUGMENTATION.METHOD\r\n",
      "                        (NO HELP CONFIGURED) (default: fillna)\r\n",
      "  --train.data.augmentation.column TRAIN.DATA.AUGMENTATION.COLUMN\r\n",
      "                        (NO HELP CONFIGURED) (default: x)\r\n",
      "  --train.data.augmentation.kwargs.value TRAIN.DATA.AUGMENTATION.KWARGS.VALUE\r\n",
      "                        (NO HELP CONFIGURED) (default: -1)\r\n",
      "  --eval.data.paths EVAL.DATA.PATHS [EVAL.DATA.PATHS ...]\r\n",
      "                        (NO HELP CONFIGURED) (default: [])\r\n",
      "  --param1 PARAM1       My help, super cool, wow, neat-o (default: 10)\r\n",
      "\r\n",
      "NOTE: This script uses a dynamic argument parser for configuration.\r\n",
      "See https://github.com/kungfuai/dynaparse for more information.\r\n"
     ]
    }
   ],
   "source": [
    "!python example.py --config_values sample/nested_config_values.json --help"
   ]
  }
 ],
 "metadata": {
  "kernelspec": {
   "display_name": "Python 3",
   "language": "python",
   "name": "python3"
  },
  "language_info": {
   "codemirror_mode": {
    "name": "ipython",
    "version": 3
   },
   "file_extension": ".py",
   "mimetype": "text/x-python",
   "name": "python",
   "nbconvert_exporter": "python",
   "pygments_lexer": "ipython3",
   "version": "3.8.8"
  }
 },
 "nbformat": 4,
 "nbformat_minor": 5
}
